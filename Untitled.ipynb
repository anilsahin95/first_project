{
 "cells": [
  {
   "cell_type": "markdown",
   "id": "da7aa2aa",
   "metadata": {},
   "source": [
    "#First_project"
   ]
  },
  {
   "cell_type": "code",
   "execution_count": 2,
   "id": "a54f0bd2",
   "metadata": {},
   "outputs": [
    {
     "ename": "SyntaxError",
     "evalue": "invalid syntax (3760915472.py, line 20)",
     "output_type": "error",
     "traceback": [
      "\u001b[1;36m  Input \u001b[1;32mIn [2]\u001b[1;36m\u001b[0m\n\u001b[1;33m    print map(lambda x: list(reversed(x)),reversed(numbers))\u001b[0m\n\u001b[1;37m          ^\u001b[0m\n\u001b[1;31mSyntaxError\u001b[0m\u001b[1;31m:\u001b[0m invalid syntax\n"
     ]
    }
   ],
   "source": [
    "#first answer\n",
    "a = [[1,'a',['cat'],2],[[[3]],'dog'],4,5]\n",
    "\n",
    "def duz(x):\n",
    "    for y in x:\n",
    "        if isinstance(y, list):\n",
    "            yield from duz(y)\n",
    "        else:\n",
    "            yield y\n",
    " \n",
    " \n",
    "b = list(flatten(a))\n",
    "print(b)\n",
    "\n",
    "\n"
   ]
  },
  {
   "cell_type": "code",
   "execution_count": 20,
   "id": "a93c821e",
   "metadata": {},
   "outputs": [
    {
     "name": "stdout",
     "output_type": "stream",
     "text": [
      "[[7, 6, 5], [4, 3], [2, 1]]\n"
     ]
    }
   ],
   "source": [
    "#second answer\n",
    "\n",
    "ilk = [[1, 2], [3, 4], [5, 6, 7]]\n",
    "ters = []\n",
    "\n",
    "ilk.reverse()\n",
    "i = int(0)\n",
    "for m in ilk:\n",
    "    ters.append(list(reversed(m)))\n",
    "    \n",
    "print(ters)"
   ]
  },
  {
   "cell_type": "code",
   "execution_count": null,
   "id": "d4cb6814",
   "metadata": {},
   "outputs": [],
   "source": []
  },
  {
   "cell_type": "code",
   "execution_count": null,
   "id": "0463d90f",
   "metadata": {},
   "outputs": [],
   "source": []
  }
 ],
 "metadata": {
  "kernelspec": {
   "display_name": "Python 3 (ipykernel)",
   "language": "python",
   "name": "python3"
  },
  "language_info": {
   "codemirror_mode": {
    "name": "ipython",
    "version": 3
   },
   "file_extension": ".py",
   "mimetype": "text/x-python",
   "name": "python",
   "nbconvert_exporter": "python",
   "pygments_lexer": "ipython3",
   "version": "3.9.1"
  }
 },
 "nbformat": 4,
 "nbformat_minor": 5
}
